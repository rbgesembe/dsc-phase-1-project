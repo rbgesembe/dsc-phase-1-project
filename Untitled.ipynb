{
 "cells": [
  {
   "cell_type": "markdown",
   "id": "cb85304e",
   "metadata": {},
   "source": [
    "# Microsoft Movie Business Case\n",
    "\n",
    "## 1. Business Understanding\n",
    "[image.png](attachment:image.png)\n",
    "\n",
    "### 1.1 Introduction\n",
    "Microsoft Corporation, a global technology firm, engages in the development, manufacturing, licensing, support, and sale of computer software, consumer electronics, and personal computers. It is renowned for its flagship offerings such as the Windows operating system, Microsoft Office suite, and Azure cloud computing platform. Expanding into various industries allows a company to reduce reliance on a single sector, enter untapped markets, cross-sell, adapt to changing consumer demands, and ensure long-term success.\n",
    "Diversifying to produce original video content can aid Microsoft in broadening its brand presence and reaching a larger audience, thereby improving its overall visibility and reputation. Additionally, movies offer opportunities for cross-promotion and product placements, enabling Microsoft to showcase its products and services to a vast viewership. Venturing into the film industry can create fresh revenue streams through licensing and distribution agreements.\n",
    "### 1.2 Business Problem\n",
    "Effective diversification requires a strategic approach backed by thorough market research to ensure a successful expansion. It's crucial to have a clear understanding of market trends, including investment levels and potential returns. Equally important is grasping customer preferences to invest in products that align with demand and promise substantial returns. This knowledge empowers decision-making, allows product customization for the target audience, facilitates the creation of impactful marketing strategies, and helps in risk mitigation. By gaining insights into the opportunities and challenges of the new market, a company positions itself for successful diversification and increases the likelihood of achieving its goals.\n",
    "While the movie industry has delivered substantial profits to companies, such gains aren't guaranteed due to various risk factors at play. In this context, I examine historical data encompassing diverse variables to identify the key determinants of profitability in the movie business, offering valuable insights to inform investment decisions.\n",
    "\n",
    "\n",
    "### 1.3 Main Objective\n",
    "To determine factors that influence profitability of movie genres.\n",
    "1. Genre\n",
    "2. Length of movie\n",
    "3. Ratings\n",
    "4. Average Rating\n",
    "### Specific Objectives\n",
    "1. What are the top produced genres of movies?\n",
    "2. Do average rating, runtimes, budget and production budget influence profitability of movies?\n",
    "3. What genres should the company consider investing in?\n",
    "### 1.4 Business Analysis Orientation\n",
    "In order to provide insights and enforce the company penetration market strategies in the movie industry, our results will focus on the following strategic orientations:\n",
    "\n",
    " 1. Top 10  Genres in the market (Top highest movie studios)\n",
    " 2. The most profitable movie market(Domestic or foreign)\n",
    " 3. The movie segmentation per movie genres.\n",
    " 4. The movie genre that the company should target the most.\n",
    " 5. The gross income view on the movie average ratings.\n",
    " 6. The average number of movies produced in a year\n",
    "\n",
    "## 2. Conclusions\n",
    "The relationship between revenue and numvotes is positively correlated at 0.63, while there is a weaker positive correlation with both average rating (0.12) and runtime minutes (0.20). These correlations suggest that larger production budgets tend to result in greater profits, whereas the influence of average rating and runtime is comparatively less significant.\n",
    "\n",
    "A comparison of the top 10 genres and the highest-rated genres in terms of gross revenue and profitability reveals that having high ratings does not guarantee a movie's profitability.\n",
    "\n",
    "The genres with the highest production budgets and profits are Action, Adventure, Sci-Fi, Animation, and Comedy.\n",
    "\n",
    "Genres such as Drama, Documentary, Adventure, Sci-Fi, and Drama receive high ratings despite having moderate production budgets.\n",
    "\n",
    "Drama, Comedy, Animation, and Adventure, Comedy are popular genres with moderate production budgets and modest returns.\n",
    "\n",
    "Investing in larger production budgets has the potential to yield higher profits. This suggests that allocating more financial resources to film production could be a viable strategy for maximizing returns on investment. However, it's important to acknowledge that there are other factors influencing profitability in the film industry, and further research is needed in this regard.\n",
    "\n",
    "## 3. Recommendations\n",
    "When selecting a film to produce, it's essential to prioritize genre, production budget, and profitability, with average ratings following closely behind. Concentrate on genres with substantial budgets and strong profit potential: Genres like Action, Adventure, Sci-Fi, Animation, Comedy, and Fantasy are marked by both high production budgets and noteworthy profits. Investing in these genres offers the prospect of a solid return on investment due to their widespread appeal and financial success.\n",
    "\n",
    "Consider genres with high ratings and reasonable production budgets: Genres such as Drama, Documentary, Sci-Fi, and Adventure have received high ratings while maintaining moderate production budgets. These genres strike a balance between critical acclaim and financial viability, making them promising investment choices.\n",
    "\n",
    "Explore possibilities in genres that are currently in demand and come with manageable production budgets: Genres like Drama, Comedy, Animation, and Adventure have garnered popularity while keeping their production costs in check. Investing in these genres can tap into a broad audience base while efficiently handling production expenses, potentially leading to profitability.\n",
    "\n",
    "\n",
    "\n"
   ]
  },
  {
   "cell_type": "code",
   "execution_count": null,
   "id": "4d8ae446",
   "metadata": {},
   "outputs": [],
   "source": []
  }
 ],
 "metadata": {
  "kernelspec": {
   "display_name": "Python (learn-env)",
   "language": "python",
   "name": "learn-env"
  },
  "language_info": {
   "codemirror_mode": {
    "name": "ipython",
    "version": 3
   },
   "file_extension": ".py",
   "mimetype": "text/x-python",
   "name": "python",
   "nbconvert_exporter": "python",
   "pygments_lexer": "ipython3",
   "version": "3.11.5"
  }
 },
 "nbformat": 4,
 "nbformat_minor": 5
}
